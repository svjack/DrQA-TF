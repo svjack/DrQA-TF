{
 "cells": [
  {
   "cell_type": "code",
   "execution_count": 1,
   "metadata": {},
   "outputs": [],
   "source": [
    "import os\n",
    "import sys\n",
    "import json\n",
    "import time\n",
    "\n",
    "import pandas as pd\n",
    "import numpy as np"
   ]
  },
  {
   "cell_type": "code",
   "execution_count": 2,
   "metadata": {},
   "outputs": [],
   "source": [
    "sys.path.insert(0, \"..\")"
   ]
  },
  {
   "cell_type": "code",
   "execution_count": 3,
   "metadata": {},
   "outputs": [],
   "source": [
    "from drqa.reader.utils import load_data"
   ]
  },
  {
   "cell_type": "code",
   "execution_count": 5,
   "metadata": {},
   "outputs": [],
   "source": [
    "from collections import namedtuple\n",
    "load_data_args = namedtuple(\"load_data_args\", [\"uncased_question\", \"uncased_doc\"])\n",
    "load_data_args.uncased_doc = False\n",
    "load_data_args.uncased_question = False"
   ]
  },
  {
   "cell_type": "code",
   "execution_count": 6,
   "metadata": {},
   "outputs": [],
   "source": [
    "json_file_name = \"../data/datasets/SQuAD-v1.1-dev-processed-corenlp.txt\" \n",
    "dev_exs = load_data(load_data_args ,json_file_name, skip_no_answer=False)"
   ]
  },
  {
   "cell_type": "code",
   "execution_count": 7,
   "metadata": {},
   "outputs": [],
   "source": [
    "json_file_name = \"../data/datasets/SQuAD-v1.1-train-processed-corenlp.txt\" \n",
    "train_exs = load_data(load_data_args ,json_file_name, skip_no_answer=True)"
   ]
  },
  {
   "cell_type": "code",
   "execution_count": 8,
   "metadata": {},
   "outputs": [],
   "source": [
    "args_dict = {'no_cuda': False,\n",
    " 'gpu': -1,\n",
    " 'data_workers': 5,\n",
    " 'parallel': False,\n",
    " 'random_seed': 1013,\n",
    " 'num_epochs': 40,\n",
    " 'batch_size': 32,\n",
    " 'test_batch_size': 128,\n",
    " 'model_dir': '/tmp/drqa-models/',\n",
    " 'model_name': '20200818-9915ee5f',\n",
    " 'data_dir': '/home/svjack/temp_dir/DrQA/DrQA/data/datasets',\n",
    " 'train_file': '/home/svjack/temp_dir/DrQA/DrQA/data/datasets/SQuAD-v1.1-train-processed-corenlp.txt',\n",
    " 'dev_file': '/home/svjack/temp_dir/DrQA/DrQA/data/datasets/SQuAD-v1.1-dev-processed-corenlp.txt',\n",
    " 'dev_json': '/home/svjack/temp_dir/DrQA/DrQA/data/datasets/SQuAD-v1.1-dev.json',\n",
    " 'embed_dir': '/home/svjack/temp_dir/DrQA/DrQA/data/embeddings',\n",
    " 'embedding_file': '/home/svjack/temp_dir/DrQA/DrQA/data/embeddings/glove.840B.300d.txt',\n",
    " 'checkpoint': False,\n",
    " 'pretrained': '',\n",
    " 'expand_dictionary': False,\n",
    " 'uncased_question': False,\n",
    " 'uncased_doc': False,\n",
    " 'restrict_vocab': True,\n",
    " 'official_eval': True,\n",
    " 'valid_metric': 'f1',\n",
    " 'display_iter': 25,\n",
    " 'sort_by_len': True,\n",
    " 'model_type': 'rnn',\n",
    " 'embedding_dim': 300,\n",
    " 'hidden_size': 128,\n",
    " 'doc_layers': 3,\n",
    " 'question_layers': 3,\n",
    " 'rnn_type': 'lstm',\n",
    " 'concat_rnn_layers': True,\n",
    " 'question_merge': 'self_attn',\n",
    " 'use_qemb': True,\n",
    " 'use_in_question': True,\n",
    " 'use_pos': True,\n",
    " 'use_ner': True,\n",
    " 'use_lemma': True,\n",
    " 'use_tf': True,\n",
    " 'dropout_emb': 0.4,\n",
    " 'dropout_rnn': 0.4,\n",
    " 'dropout_rnn_output': True,\n",
    " 'optimizer': 'adamax',\n",
    " 'learning_rate': 0.1,\n",
    " 'grad_clipping': 10,\n",
    " 'weight_decay': 0,\n",
    " 'momentum': 0,\n",
    " 'fix_embeddings': False,\n",
    " 'tune_partial': 1000,\n",
    " 'rnn_padding': False,\n",
    " 'max_len': 15,\n",
    " 'log_file': '/tmp/drqa-models/20200818-9915ee5f.txt',\n",
    " 'model_file': '/tmp/drqa-models/20200818-9915ee5f.mdl',\n",
    " 'cuda': False}"
   ]
  },
  {
   "cell_type": "code",
   "execution_count": 9,
   "metadata": {},
   "outputs": [],
   "source": [
    "from collections import namedtuple\n",
    "args_tuple = namedtuple(\"args_tuple\", list(args_dict.keys()))\n",
    "for k, v in args_dict.items():\n",
    "    exec(\"args_tuple.{}={}\".format(k, \"'{}'\".format(v) if type(v) == type(\"\") else v))"
   ]
  },
  {
   "cell_type": "code",
   "execution_count": 10,
   "metadata": {},
   "outputs": [],
   "source": [
    "from drqa.reader.utils import build_feature_dict, build_word_dict"
   ]
  },
  {
   "cell_type": "code",
   "execution_count": 11,
   "metadata": {},
   "outputs": [],
   "source": [
    "feature_dict = build_feature_dict(args_tuple, train_exs)"
   ]
  },
  {
   "cell_type": "code",
   "execution_count": 12,
   "metadata": {},
   "outputs": [],
   "source": [
    "word_dict = build_word_dict(args_tuple, train_exs + dev_exs)"
   ]
  },
  {
   "cell_type": "code",
   "execution_count": null,
   "metadata": {},
   "outputs": [],
   "source": [
    "notebook_dumps_dir = \"../notebook_dumps/\"\n",
    "if not os.path.exists(notebook_dumps_dir):\n",
    "    os.mkdir(notebook_dumps_dir)\n",
    "def dump_file(obj, file_format, file_name):\n",
    "    assert file_format in [\"json\", \"pkl\"]\n",
    "    file_path = os.path.join(notebook_dumps_dir, \"{}.{}\".format(file_name, file_format))\n",
    "    if file_format == \"json\":\n",
    "        with open(file_path, \"w\", encoding = \"utf-8\") as f:\n",
    "            json.dump(obj, f)\n",
    "    elif file_format == \"pkl\":\n",
    "        with open(file_path, \"wb\") as f:\n",
    "            pkl.dump(obj ,f)\n",
    "    else:\n",
    "        1 / 0\n",
    "    print(\"file dump to {}\".format(file_path))"
   ]
  },
  {
   "cell_type": "code",
   "execution_count": null,
   "metadata": {},
   "outputs": [],
   "source": [
    "dump_file(args_dict, \"json\", \"args\")"
   ]
  },
  {
   "cell_type": "code",
   "execution_count": null,
   "metadata": {},
   "outputs": [],
   "source": [
    "dump_file(word_dict, \"pkl\", \"word_dict\")"
   ]
  },
  {
   "cell_type": "code",
   "execution_count": null,
   "metadata": {},
   "outputs": [],
   "source": [
    "dump_file(feature_dict, \"pkl\", \"feature_dict\")"
   ]
  },
  {
   "cell_type": "code",
   "execution_count": null,
   "metadata": {},
   "outputs": [],
   "source": [
    "dump_file(dev_exs, \"pkl\", \"dev_exs\")"
   ]
  },
  {
   "cell_type": "code",
   "execution_count": null,
   "metadata": {},
   "outputs": [],
   "source": [
    "dump_file(train_exs, \"pkl\", \"train_exs\")"
   ]
  },
  {
   "cell_type": "code",
   "execution_count": null,
   "metadata": {},
   "outputs": [],
   "source": []
  },
  {
   "cell_type": "code",
   "execution_count": null,
   "metadata": {},
   "outputs": [],
   "source": []
  },
  {
   "cell_type": "code",
   "execution_count": null,
   "metadata": {},
   "outputs": [],
   "source": []
  },
  {
   "cell_type": "code",
   "execution_count": null,
   "metadata": {},
   "outputs": [],
   "source": []
  }
 ],
 "metadata": {
  "kernelspec": {
   "display_name": "py38",
   "language": "python",
   "name": "py38"
  },
  "language_info": {
   "codemirror_mode": {
    "name": "ipython",
    "version": 3
   },
   "file_extension": ".py",
   "mimetype": "text/x-python",
   "name": "python",
   "nbconvert_exporter": "python",
   "pygments_lexer": "ipython3",
   "version": "3.8.3"
  }
 },
 "nbformat": 4,
 "nbformat_minor": 4
}
